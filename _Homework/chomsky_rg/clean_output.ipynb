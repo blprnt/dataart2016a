{
 "cells": [
  {
   "cell_type": "code",
   "execution_count": 53,
   "metadata": {
    "collapsed": true
   },
   "outputs": [],
   "source": [
    "import os\n",
    "import sys\n",
    "import re"
   ]
  },
  {
   "cell_type": "code",
   "execution_count": 54,
   "metadata": {
    "collapsed": false
   },
   "outputs": [
    {
     "name": "stdout",
     "output_type": "stream",
     "text": [
      ".DS_Store\n",
      "output01.txt\n",
      "output01a.txt\n",
      "output01b.txt\n",
      "output01c.txt\n",
      "output01d.txt\n",
      "output02.txt\n",
      "output02a.txt\n",
      "output02b.txt\n",
      "output02c.txt\n",
      "output02d.txt\n",
      "output03.txt\n",
      "output03a.txt\n",
      "output03b.txt\n",
      "output03c.txt\n",
      "output03d.txt\n",
      "output04.txt\n",
      "output04a.txt\n",
      "output04b.txt\n",
      "output04c.txt\n",
      "output04d.txt\n",
      "output05.txt\n",
      "output05a.txt\n",
      "output05b.txt\n",
      "output05c.txt\n",
      "output05d.txt\n"
     ]
    }
   ],
   "source": [
    "rel_grafs = list()\n",
    "\n",
    "for subdir, dirs, files in os.walk('output'):\n",
    "    for f in files:\n",
    "        print f\n",
    "        fp = os.path.join(subdir, f)\n",
    "        if f.endswith('.txt'):\n",
    "            with open(fp, 'r') as infile:\n",
    "                rel_graf = infile.read().strip().split('\\n', 1).pop()\n",
    "            rel_grafs.append(rel_graf)"
   ]
  },
  {
   "cell_type": "code",
   "execution_count": 55,
   "metadata": {
    "collapsed": false
   },
   "outputs": [
    {
     "data": {
      "text/plain": [
       "'colorless peasants were killed by the U.S. and its allies and the construction of the U.S. and its allies in the United States. The problem of the U.S. is a serious concern for the United States and its allies, and the reaction in the United States and the United States and its allies. The U.S. and its allies are not a pro-American supplier to the U.S. and its allies and the right to control the population and the regional system in the world. The U.S. and Israel is a co'"
      ]
     },
     "execution_count": 55,
     "metadata": {},
     "output_type": "execute_result"
    }
   ],
   "source": [
    "rel_grafs[0]"
   ]
  },
  {
   "cell_type": "code",
   "execution_count": 104,
   "metadata": {
    "collapsed": true
   },
   "outputs": [],
   "source": [
    "def get_first_words(graf, n):\n",
    "#     tokens = re.split(r'\\s+', graf)\n",
    "#     return ' '.join(tokens[:n])\n",
    "    return graf.split('\\n', 1)[0]\n",
    "#     return re.split(r'(?<![A-Z])[\\.\\?\\!]', firstGraf)[0]\n",
    "#     return parts[0]"
   ]
  },
  {
   "cell_type": "code",
   "execution_count": 105,
   "metadata": {
    "collapsed": false
   },
   "outputs": [],
   "source": [
    "output = map(lambda t: get_first_words(t, 7), rel_grafs)"
   ]
  },
  {
   "cell_type": "code",
   "execution_count": 106,
   "metadata": {
    "collapsed": false
   },
   "outputs": [],
   "source": [
    "out_list = ['colorless', 'green', 'ideas', 'sleep', 'furiously']\n",
    "out_dict = {w:[] for w in out_list}\n",
    "\n",
    "for sentence in output:\n",
    "    first_token, rest = sentence.split(' ', 1)\n",
    "    out_dict[first_token].append(' '+rest)"
   ]
  },
  {
   "cell_type": "code",
   "execution_count": 107,
   "metadata": {
    "collapsed": false
   },
   "outputs": [
    {
     "name": "stdout",
     "output_type": "stream",
     "text": [
      "<p><span class=\"colorless\">colorless</span> peasants were killed by the U.S. and its allies and the construction of the U.S. and its allies in the United States. The problem of the U.S. is a serious concern for the United States and its allies, and the reaction in the United States and the United States and its allies. The U.S. and its allies are not a pro-American supplier to the U.S. and its allies and the right to control the population and the regional system in the world. The U.S. and Israel is a co...</p>\n",
      "<p><span class=\"green\">green</span> military aid to the U.S. proxy forces in the region is the same as the contras and the resources of the U.S. and its allies. The U.S. government has been a major concern of the policy of destroying the population and the rest of the world and the resolution of the United States and the United States, which is the result of the actual problems of the United States. The problem of defending the population is that the U.S. is a “strategic asset” and the “strategic and...</p>\n",
      "<p><span class=\"ideas\">ideas</span> about the problem of democracy is a strong support for the present consequences of the present context. The same is true of the problem of the United States and its allies and the concept of the private sector that has been a major concern of the population that is not a consequence of the problem of destroying the population and the rest of the world. The problem of democracy is a proper record of the political system that is also a proper and more successful poli...</p>\n",
      "<p><span class=\"sleep\">sleep</span> and social control of the world country was a substantial part of the population and the problem of controlling the population and the problems of the political system and the resources of the population. The problem of the press is a state of state terrorism and the activities of the political system and the control of the population that the United States has always been a major concern of the powerful and the problems of the masses of the world. The problem is t...</p>\n",
      "<p><span class=\"furiously\">furiously</span> the problem of control is a serious concern of the proper reaction to the problems of the political system, and the problems that increase the problems of the private sector and the powerful are also a state of power. The problem of the problem of democracy is not a matter of concern for the present day. The problem is that the US was a “security zone” that would be “a major consensus for the poor and the political arena.” The reason is that the US is a “strong...</p>\n",
      "\n",
      "<p><span class=\"colorless\">colorless</span> consequences of the threat of the arms race in the country and the principle that the United States has a serious and pretty serious and progressive social science of the world, including a series of state power that is provided by the prospects for the poor and profit of the population. The reason is that the United States is a major political settlement that is a consequence of the power of the powerful and the rest of the world. The United States and its all...</p>\n",
      "<p><span class=\"green\">green</span> liberal and political institutions were also a proper response to the control of the population. The U.S. was supported by the United States, and the U.S. and Israel were undertaken as a “substantial position for the regime of the poor people and the United States and the Arab world,” and the concept of “aggression” that the U.S. was the U.S. and its allies to intervene in the region. The U.S. has been a declaration of subsidies to the U.S. and Israel and the U.S....</p>\n",
      "<p><span class=\"ideas\">ideas</span> and reviews are the concepts of power in the world and the state of the population and the rest of the world. The reasons for the consensus of the problem of developing concerns and intellectuals who are not consistent with the fact that the problem of control is not a program of profit and the power of the population in the world. The reason is that the population is a problem as to what is called “the problem of success” and “the protection of the population of t...</p>\n",
      "<p><span class=\"sleep\">sleep</span> on the context of the United States in the United States in the first place, the United States was always a system of international law. The same is true of the war and the rest of the world, and the problem is to consider the facts that the population can be addressed. The reasons for the present case is that the US is not a matter of no such standards as the prospects for the region....</p>\n",
      "<p><span class=\"furiously\">furiously</span> as well as the results of the United States to destroy the population to the United States and its allies and the population of the world. The reason was that the U.S. and its allies were considered a constant threat to the United States, and the United States would have to be able to recognize the rest of the world and the resort to force to control the world. The problem of the press reported that the consequences of the economy would be a consistent problem...</p>\n",
      "\n",
      "<p><span class=\"colorless\">colorless</span> describing the meaning of the U.S. press and a state that is a “democratic presence in the society” that describes the primary decisions that are not entitled to destroy the contras and their military production and the right of power and existence to the poor in the region. The U.S. press reports that the U.S. and UK has no terrible reports on the fact that the army is to be “a priority for the public mind” that the overwhelming majority of indigenous populati...</p>\n",
      "<p><span class=\"green\">green</span> conservative El Salvador and India...</p>\n",
      "<p><span class=\"ideas\">ideas</span> about the pretense that the U.S. was provided to southern Lebanon in 1992, and Israel rejected the universities and with a real agreement that Israel would remain and as the biggest stage that the U.S. was granted by the U.S....</p>\n",
      "<p><span class=\"sleep\">sleep</span> subjective indigenous countries will surely exist and the population at the time of the country’s response to the unions and the relations of the state in the region. The major impact of the Cold War is that it is likely that the U.S. must never be the most important result of the international consensus—the concept of “trade agreement” and the “enlightened states” which the United States and its allies impose some success. The U.S. is the only interesting conclusi...</p>\n",
      "<p><span class=\"furiously\">furiously</span> on the grounds that the U.S. would be at a time to control the population that is taken on the wall from the postwar period and provided some of the most protectionist and political consequences of the destruction of the parade that has been expansionist and private power and the population of the country and continued to control the mass media, which are therefore affected by both sides of the past 10 years....</p>\n",
      "\n",
      "<p><span class=\"colorless\">colorless</span> villagers are strongly obligated, and the “business groups” of torture has been trained for peace. Despite its readers, the London Bulletin was devoted to indigenous press reports on the rise of the heroin trade that was entered from severe nuclear weapons, which still respect higher world peoples that were achieved and to help the privileged, close to $1,000 and $20 million of internal refugees. There are a few sessions of the part that reached facts about the...</p>\n",
      "<p><span class=\"green\">green</span> briglearg with the Gospel was a reporter who discusses the terror of the bombing, a fact that he had already been trained to offer him the urgency that had freed at hand, the flow of terror alone in specific schools conform to Vietnam. In each sense, he ordered the North Vietnamese with an unprotected collapse of the increased incidence of the poor Classics in Politics: Turning the Tide Noam Chomsky...</p>\n",
      "<p><span class=\"ideas\">ideas</span> of the overneagers and propaganda effects reflect the threat of free enterprise through control of the rest of the world in the special sense. The consequences can be realized as the leading component of a just and evil, such manuals represented by a small multitude of change in the free hands of the propaganda industrial societies (particularly white children, and that the enemy became a responsible reason in both cases), and what is doubtless served as a welcome...</p>\n",
      "<p><span class=\"sleep\">sleep</span> pages do not overlook the agenda to the elections and the perceived energy rates that are elected by way of successful support for the international system from outside the political system. The Monroe Doctrine, threatening the expectation that the function of power and strategy is concerned with massive authority and its conception of the general role of the government of Afghanistan. The Reagan doctrine expressed another statement the decision to reconcile the do...</p>\n",
      "<p><span class=\"furiously\">furiously</span> the transformation of the attack also also denies the facts by the fact that the United States must be denied any debt and the problem of interstate subsidies, although, in my view, the conditions Asian freeze goes back to the origins of the atrocities. The only issue is that, in the way the economy and powerful are not withous work, we may now take a mistake to develop from the media and electric wars. The difference between the proportions of the U.S....</p>\n",
      "\n",
      "<p><span class=\"colorless\">colorless</span> agents and criticisms of Orwell are providing a huge government: the peasants and combining places which...</p>\n",
      "<p><span class=\"green\">green</span> showed, dine and anticommunism, and forever evidence, the extradition argument sponsored by Northern Asian Parliament programs, and include the honesty drawn as a mottanic state subsidy, notifying a (3),...</p>\n",
      "<p><span class=\"ideas\">ideas</span> of the surroundings of a measure of public approaches at the Center for Human Rights; for example, when the political leadership in 1955 was leaked to effective means, the US$2000 (as the National Security Council reference), the conventions were released along with trading factors to hundreds of thousands of three people (who are closed to the Miladel State Menchu). What of Kissinger at the Holocaust School of the Cooperation Account?...</p>\n",
      "<p><span class=\"sleep\">sleep</span> jobs are never even more moral surge, among them, that little pass cheapest work or anything but more...</p>\n",
      "<p><span class=\"furiously\">furiously</span> effectively. The government may have imagined “to protect the champoon until Hungary would count as holys-city shoh the stores-eariness paid.” 30...</p>\n",
      "\n"
     ]
    }
   ],
   "source": [
    "for i in range(5):\n",
    "    for kw in out_list:\n",
    "        print '<p><span class=\"%s\">%s</span>%s...</p>' % (kw, kw, out_dict[kw][i])\n",
    "    print\n",
    "    \n",
    "# print repr(out_dict['green'][4])"
   ]
  },
  {
   "cell_type": "code",
   "execution_count": null,
   "metadata": {
    "collapsed": true
   },
   "outputs": [],
   "source": []
  },
  {
   "cell_type": "code",
   "execution_count": null,
   "metadata": {
    "collapsed": true
   },
   "outputs": [],
   "source": []
  }
 ],
 "metadata": {
  "kernelspec": {
   "display_name": "Python 2",
   "language": "python",
   "name": "python2"
  },
  "language_info": {
   "codemirror_mode": {
    "name": "ipython",
    "version": 2
   },
   "file_extension": ".py",
   "mimetype": "text/x-python",
   "name": "python",
   "nbconvert_exporter": "python",
   "pygments_lexer": "ipython2",
   "version": "2.7.10"
  }
 },
 "nbformat": 4,
 "nbformat_minor": 0
}
